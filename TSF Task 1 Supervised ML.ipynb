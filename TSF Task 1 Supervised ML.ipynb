{
 "cells": [
  {
   "cell_type": "markdown",
   "id": "872c91fd",
   "metadata": {},
   "source": [
    "### @GRIPAPR23 - The Spark Foundation\n",
    "#### Data Science & Business Analytics Intern\n",
    "\n",
    "\n",
    "### Name : Shaik Naseer Hussain.\n",
    "#### Task 1: Prediction using Supervised ML\n",
    "● Predict the percentage of an student based on the no. of study hours.  \n",
    "● This is a simple linear regression task as it involves just 2 variables.  \n",
    "● Data can be found at http://bit.ly/w-data "
   ]
  },
  {
   "cell_type": "markdown",
   "id": "42928f1f",
   "metadata": {},
   "source": [
    "### About the Dataset.\n",
    "- We have ony 2 Features given in the Dataset <b>Hours</b> and <b>Scores</b>.\n",
    "- This Dataset has records in which Hours are related with Scores.\n",
    "- Means based on Number of hours the student studies the Scores are recorded for them.\n",
    "- The Scores are on a scale from ` 0 - 100 `  \n",
    "\n",
    "\n",
    "- The more the student studies the more Score he gets and vice versa.\n"
   ]
  },
  {
   "cell_type": "code",
   "execution_count": 1,
   "id": "8b8d2eb7",
   "metadata": {},
   "outputs": [],
   "source": [
    "# Importing required libraries\n",
    "import numpy as np  #For mathematical calculations\n",
    "import pandas as pd # For Data Analyses, to load, explore, clean the data.\n",
    "import matplotlib.pyplot as plt  # For visualizing the data EDA\n",
    "import seaborn as sns    # Improved version of Matplotlib\n",
    "\n",
    "import warnings\n",
    "warnings.filterwarnings(\"ignore\")"
   ]
  },
  {
   "cell_type": "code",
   "execution_count": 2,
   "id": "544a5509",
   "metadata": {},
   "outputs": [
    {
     "data": {
      "text/html": [
       "<div>\n",
       "<style scoped>\n",
       "    .dataframe tbody tr th:only-of-type {\n",
       "        vertical-align: middle;\n",
       "    }\n",
       "\n",
       "    .dataframe tbody tr th {\n",
       "        vertical-align: top;\n",
       "    }\n",
       "\n",
       "    .dataframe thead th {\n",
       "        text-align: right;\n",
       "    }\n",
       "</style>\n",
       "<table border=\"1\" class=\"dataframe\">\n",
       "  <thead>\n",
       "    <tr style=\"text-align: right;\">\n",
       "      <th></th>\n",
       "      <th>Hours</th>\n",
       "      <th>Scores</th>\n",
       "    </tr>\n",
       "  </thead>\n",
       "  <tbody>\n",
       "    <tr>\n",
       "      <th>0</th>\n",
       "      <td>2.5</td>\n",
       "      <td>21</td>\n",
       "    </tr>\n",
       "    <tr>\n",
       "      <th>1</th>\n",
       "      <td>5.1</td>\n",
       "      <td>47</td>\n",
       "    </tr>\n",
       "    <tr>\n",
       "      <th>2</th>\n",
       "      <td>3.2</td>\n",
       "      <td>27</td>\n",
       "    </tr>\n",
       "    <tr>\n",
       "      <th>3</th>\n",
       "      <td>8.5</td>\n",
       "      <td>75</td>\n",
       "    </tr>\n",
       "    <tr>\n",
       "      <th>4</th>\n",
       "      <td>3.5</td>\n",
       "      <td>30</td>\n",
       "    </tr>\n",
       "  </tbody>\n",
       "</table>\n",
       "</div>"
      ],
      "text/plain": [
       "   Hours  Scores\n",
       "0    2.5      21\n",
       "1    5.1      47\n",
       "2    3.2      27\n",
       "3    8.5      75\n",
       "4    3.5      30"
      ]
     },
     "execution_count": 2,
     "metadata": {},
     "output_type": "execute_result"
    }
   ],
   "source": [
    "# Loading the data\n",
    "df = pd.read_csv(\"Task 1 student_scores.csv\")\n",
    "\n",
    "df.head()"
   ]
  },
  {
   "cell_type": "code",
   "execution_count": 3,
   "id": "2394104d",
   "metadata": {},
   "outputs": [
    {
     "data": {
      "text/plain": [
       "(25, 2)"
      ]
     },
     "execution_count": 3,
     "metadata": {},
     "output_type": "execute_result"
    }
   ],
   "source": [
    "# Shape of the Dataset.\n",
    "df.shape"
   ]
  },
  {
   "cell_type": "markdown",
   "id": "a7cc2733",
   "metadata": {},
   "source": [
    "We have 25 records with 2 Features."
   ]
  },
  {
   "cell_type": "code",
   "execution_count": 4,
   "id": "60992f3a",
   "metadata": {},
   "outputs": [
    {
     "name": "stdout",
     "output_type": "stream",
     "text": [
      "<class 'pandas.core.frame.DataFrame'>\n",
      "RangeIndex: 25 entries, 0 to 24\n",
      "Data columns (total 2 columns):\n",
      " #   Column  Non-Null Count  Dtype  \n",
      "---  ------  --------------  -----  \n",
      " 0   Hours   25 non-null     float64\n",
      " 1   Scores  25 non-null     int64  \n",
      "dtypes: float64(1), int64(1)\n",
      "memory usage: 528.0 bytes\n"
     ]
    }
   ],
   "source": [
    "# Info to check for any null values and data type of Features.\n",
    "df.info()"
   ]
  },
  {
   "cell_type": "code",
   "execution_count": 5,
   "id": "6e351e85",
   "metadata": {},
   "outputs": [
    {
     "data": {
      "text/html": [
       "<div>\n",
       "<style scoped>\n",
       "    .dataframe tbody tr th:only-of-type {\n",
       "        vertical-align: middle;\n",
       "    }\n",
       "\n",
       "    .dataframe tbody tr th {\n",
       "        vertical-align: top;\n",
       "    }\n",
       "\n",
       "    .dataframe thead th {\n",
       "        text-align: right;\n",
       "    }\n",
       "</style>\n",
       "<table border=\"1\" class=\"dataframe\">\n",
       "  <thead>\n",
       "    <tr style=\"text-align: right;\">\n",
       "      <th></th>\n",
       "      <th>Hours</th>\n",
       "      <th>Scores</th>\n",
       "    </tr>\n",
       "  </thead>\n",
       "  <tbody>\n",
       "    <tr>\n",
       "      <th>count</th>\n",
       "      <td>25.000000</td>\n",
       "      <td>25.000000</td>\n",
       "    </tr>\n",
       "    <tr>\n",
       "      <th>mean</th>\n",
       "      <td>5.012000</td>\n",
       "      <td>51.480000</td>\n",
       "    </tr>\n",
       "    <tr>\n",
       "      <th>std</th>\n",
       "      <td>2.525094</td>\n",
       "      <td>25.286887</td>\n",
       "    </tr>\n",
       "    <tr>\n",
       "      <th>min</th>\n",
       "      <td>1.100000</td>\n",
       "      <td>17.000000</td>\n",
       "    </tr>\n",
       "    <tr>\n",
       "      <th>25%</th>\n",
       "      <td>2.700000</td>\n",
       "      <td>30.000000</td>\n",
       "    </tr>\n",
       "    <tr>\n",
       "      <th>50%</th>\n",
       "      <td>4.800000</td>\n",
       "      <td>47.000000</td>\n",
       "    </tr>\n",
       "    <tr>\n",
       "      <th>75%</th>\n",
       "      <td>7.400000</td>\n",
       "      <td>75.000000</td>\n",
       "    </tr>\n",
       "    <tr>\n",
       "      <th>max</th>\n",
       "      <td>9.200000</td>\n",
       "      <td>95.000000</td>\n",
       "    </tr>\n",
       "  </tbody>\n",
       "</table>\n",
       "</div>"
      ],
      "text/plain": [
       "           Hours     Scores\n",
       "count  25.000000  25.000000\n",
       "mean    5.012000  51.480000\n",
       "std     2.525094  25.286887\n",
       "min     1.100000  17.000000\n",
       "25%     2.700000  30.000000\n",
       "50%     4.800000  47.000000\n",
       "75%     7.400000  75.000000\n",
       "max     9.200000  95.000000"
      ]
     },
     "execution_count": 5,
     "metadata": {},
     "output_type": "execute_result"
    }
   ],
   "source": [
    "# Describe - to get quantile values, mean, min, max, std, \n",
    "df.describe()"
   ]
  },
  {
   "cell_type": "markdown",
   "id": "164f9eae",
   "metadata": {},
   "source": [
    "From above report we have no Outliers because the data is equally distributed at all quantiles(min, 25%, 50%, 75%, max)"
   ]
  },
  {
   "cell_type": "markdown",
   "id": "7d32b056",
   "metadata": {},
   "source": [
    "### Performing EDA and visualizing the Data."
   ]
  },
  {
   "cell_type": "code",
   "execution_count": 6,
   "id": "e348f603",
   "metadata": {
    "scrolled": false
   },
   "outputs": [
    {
     "data": {
      "text/plain": [
       "<AxesSubplot: >"
      ]
     },
     "execution_count": 6,
     "metadata": {},
     "output_type": "execute_result"
    },
    {
     "data": {
      "image/png": "[encoded data removed]",
      "text/plain": [
       "<Figure size 640x480 with 1 Axes>"
      ]
     },
     "metadata": {},
     "output_type": "display_data"
    }
   ],
   "source": [
    "# Boxplot between the 2 Features\n",
    "sns.boxplot(df)"
   ]
  },
  {
   "cell_type": "markdown",
   "id": "95ccd12d",
   "metadata": {},
   "source": [
    "From above plot we know the distribution of points, Q1,Q3, min, max, median"
   ]
  },
  {
   "cell_type": "code",
   "execution_count": 7,
   "id": "b482ebf8",
   "metadata": {
    "scrolled": false
   },
   "outputs": [
    {
     "data": {
      "image/png": "[encoded data removed]",
      "text/plain": [
       "<Figure size 640x480 with 1 Axes>"
      ]
     },
     "metadata": {},
     "output_type": "display_data"
    }
   ],
   "source": [
    "# Scatter plot to check relationship b/w two features visually\n",
    "sns.scatterplot(df, x = 'Hours', y = 'Scores')\n",
    "plt.title(\" Hours vs Scores\")\n",
    "plt.xlabel(\"Hours studies\")\n",
    "plt.ylabel(\"Scores obtained\")\n",
    "plt.show()"
   ]
  },
  {
   "cell_type": "markdown",
   "id": "3e3a9d8f",
   "metadata": {},
   "source": [
    "From above we clearly see there is a linear relationship between the two which probably suggests us to use Linear Regression."
   ]
  },
  {
   "cell_type": "code",
   "execution_count": 8,
   "id": "96f7f519",
   "metadata": {
    "scrolled": false
   },
   "outputs": [
    {
     "name": "stdout",
     "output_type": "stream",
     "text": [
      "           Hours    Scores\n",
      "Hours   1.000000  0.976191\n",
      "Scores  0.976191  1.000000\n"
     ]
    },
    {
     "data": {
      "image/png": "[encoded data removed]",
      "text/plain": [
       "<Figure size 640x480 with 2 Axes>"
      ]
     },
     "metadata": {},
     "output_type": "display_data"
    }
   ],
   "source": [
    "print(df.corr())\n",
    "sns.heatmap(df.corr())\n",
    "plt.show()"
   ]
  },
  {
   "cell_type": "markdown",
   "id": "b3032952",
   "metadata": {},
   "source": [
    "The 2 Features Independent(I/p) and Dependent variables are highly correlated."
   ]
  },
  {
   "cell_type": "markdown",
   "id": "fb37b966",
   "metadata": {},
   "source": [
    "Now we are done with EDA, we can now proceed with Model Building."
   ]
  },
  {
   "cell_type": "markdown",
   "id": "7f75cddc",
   "metadata": {},
   "source": [
    "### Model Building"
   ]
  },
  {
   "cell_type": "code",
   "execution_count": 9,
   "id": "b7c543f9",
   "metadata": {
    "scrolled": true
   },
   "outputs": [],
   "source": [
    "# Dividing Dataset into X and y features separately.\n",
    "X = pd.DataFrame(df.iloc[:, 0])\n",
    "y = pd.DataFrame(df.iloc[:, 1])"
   ]
  },
  {
   "cell_type": "markdown",
   "id": "2e30206b",
   "metadata": {},
   "source": [
    "#### Splitting Data into Train & Test sets."
   ]
  },
  {
   "cell_type": "code",
   "execution_count": 10,
   "id": "0986969f",
   "metadata": {},
   "outputs": [],
   "source": [
    "from sklearn.model_selection import train_test_split\n",
    "X_train, X_test, y_train, y_test = train_test_split(X, y, test_size = 0.2, random_state = 0)"
   ]
  },
  {
   "cell_type": "code",
   "execution_count": 11,
   "id": "eb4a2cdd",
   "metadata": {},
   "outputs": [
    {
     "name": "stdout",
     "output_type": "stream",
     "text": [
      "X_train shape (20, 1) \n",
      "y_train shape (20, 1) \n",
      "X_test shape (5, 1) \n",
      "y_test shape (5, 1)\n"
     ]
    }
   ],
   "source": [
    "# Checking shapes of the splits.\n",
    "print(\"X_train shape\",X_train.shape, \"\\ny_train shape\", y_train.shape, \"\\nX_test shape\",X_test.shape, \"\\ny_test shape\",y_test.shape)"
   ]
  },
  {
   "cell_type": "markdown",
   "id": "6bc5074f",
   "metadata": {},
   "source": [
    "### Training the Simple Linear Regression using Training Data"
   ]
  },
  {
   "cell_type": "code",
   "execution_count": 12,
   "id": "df3cd669",
   "metadata": {},
   "outputs": [],
   "source": [
    "# Loading LR\n",
    "from sklearn.linear_model import LinearRegression\n",
    "# Creating object\n",
    "slr = LinearRegression()"
   ]
  },
  {
   "cell_type": "code",
   "execution_count": 13,
   "id": "60f8cc3f",
   "metadata": {},
   "outputs": [
    {
     "data": {
      "text/html": [
       "<style>#sk-container-id-1 {color: black;background-color: white;}#sk-container-id-1 pre{padding: 0;}#sk-container-id-1 div.sk-toggleable {background-color: white;}#sk-container-id-1 label.sk-toggleable__label {cursor: pointer;display: block;width: 100%;margin-bottom: 0;padding: 0.3em;box-sizing: border-box;text-align: center;}#sk-container-id-1 label.sk-toggleable__label-arrow:before {content: \"▸\";float: left;margin-right: 0.25em;color: #696969;}#sk-container-id-1 label.sk-toggleable__label-arrow:hover:before {color: black;}#sk-container-id-1 div.sk-estimator:hover label.sk-toggleable__label-arrow:before {color: black;}#sk-container-id-1 div.sk-toggleable__content {max-height: 0;max-width: 0;overflow: hidden;text-align: left;background-color: #f0f8ff;}#sk-container-id-1 div.sk-toggleable__content pre {margin: 0.2em;color: black;border-radius: 0.25em;background-color: #f0f8ff;}#sk-container-id-1 input.sk-toggleable__control:checked~div.sk-toggleable__content {max-height: 200px;max-width: 100%;overflow: auto;}#sk-container-id-1 input.sk-toggleable__control:checked~label.sk-toggleable__label-arrow:before {content: \"▾\";}#sk-container-id-1 div.sk-estimator input.sk-toggleable__control:checked~label.sk-toggleable__label {background-color: #d4ebff;}#sk-container-id-1 div.sk-label input.sk-toggleable__control:checked~label.sk-toggleable__label {background-color: #d4ebff;}#sk-container-id-1 input.sk-hidden--visually {border: 0;clip: rect(1px 1px 1px 1px);clip: rect(1px, 1px, 1px, 1px);height: 1px;margin: -1px;overflow: hidden;padding: 0;position: absolute;width: 1px;}#sk-container-id-1 div.sk-estimator {font-family: monospace;background-color: #f0f8ff;border: 1px dotted black;border-radius: 0.25em;box-sizing: border-box;margin-bottom: 0.5em;}#sk-container-id-1 div.sk-estimator:hover {background-color: #d4ebff;}#sk-container-id-1 div.sk-parallel-item::after {content: \"\";width: 100%;border-bottom: 1px solid gray;flex-grow: 1;}#sk-container-id-1 div.sk-label:hover label.sk-toggleable__label {background-color: #d4ebff;}#sk-container-id-1 div.sk-serial::before {content: \"\";position: absolute;border-left: 1px solid gray;box-sizing: border-box;top: 0;bottom: 0;left: 50%;z-index: 0;}#sk-container-id-1 div.sk-serial {display: flex;flex-direction: column;align-items: center;background-color: white;padding-right: 0.2em;padding-left: 0.2em;position: relative;}#sk-container-id-1 div.sk-item {position: relative;z-index: 1;}#sk-container-id-1 div.sk-parallel {display: flex;align-items: stretch;justify-content: center;background-color: white;position: relative;}#sk-container-id-1 div.sk-item::before, #sk-container-id-1 div.sk-parallel-item::before {content: \"\";position: absolute;border-left: 1px solid gray;box-sizing: border-box;top: 0;bottom: 0;left: 50%;z-index: -1;}#sk-container-id-1 div.sk-parallel-item {display: flex;flex-direction: column;z-index: 1;position: relative;background-color: white;}#sk-container-id-1 div.sk-parallel-item:first-child::after {align-self: flex-end;width: 50%;}#sk-container-id-1 div.sk-parallel-item:last-child::after {align-self: flex-start;width: 50%;}#sk-container-id-1 div.sk-parallel-item:only-child::after {width: 0;}#sk-container-id-1 div.sk-dashed-wrapped {border: 1px dashed gray;margin: 0 0.4em 0.5em 0.4em;box-sizing: border-box;padding-bottom: 0.4em;background-color: white;}#sk-container-id-1 div.sk-label label {font-family: monospace;font-weight: bold;display: inline-block;line-height: 1.2em;}#sk-container-id-1 div.sk-label-container {text-align: center;}#sk-container-id-1 div.sk-container {/* jupyter's `normalize.less` sets `[hidden] { display: none; }` but bootstrap.min.css set `[hidden] { display: none !important; }` so we also need the `!important` here to be able to override the default hidden behavior on the sphinx rendered scikit-learn.org. See: https://github.com/scikit-learn/scikit-learn/issues/21755 */display: inline-block !important;position: relative;}#sk-container-id-1 div.sk-text-repr-fallback {display: none;}</style><div id=\"sk-container-id-1\" class=\"sk-top-container\"><div class=\"sk-text-repr-fallback\"><pre>LinearRegression()</pre><b>In a Jupyter environment, please rerun this cell to show the HTML representation or trust the notebook. <br />On GitHub, the HTML representation is unable to render, please try loading this page with nbviewer.org.</b></div><div class=\"sk-container\" hidden><div class=\"sk-item\"><div class=\"sk-estimator sk-toggleable\"><input class=\"sk-toggleable__control sk-hidden--visually\" id=\"sk-estimator-id-1\" type=\"checkbox\" checked><label for=\"sk-estimator-id-1\" class=\"sk-toggleable__label sk-toggleable__label-arrow\">LinearRegression</label><div class=\"sk-toggleable__content\"><pre>LinearRegression()</pre></div></div></div></div></div>"
      ],
      "text/plain": [
       "LinearRegression()"
      ]
     },
     "execution_count": 13,
     "metadata": {},
     "output_type": "execute_result"
    }
   ],
   "source": [
    "# Fitting the Training Data.\n",
    "slr.fit(X_train, y_train)"
   ]
  },
  {
   "cell_type": "code",
   "execution_count": 14,
   "id": "fb8706ad",
   "metadata": {},
   "outputs": [
    {
     "name": "stdout",
     "output_type": "stream",
     "text": [
      "Intercept :  [2.01816004] \n",
      "Coefficient [[9.91065648]]\n"
     ]
    }
   ],
   "source": [
    "# Printing the Intercept('c') and Coefficient('m') in the regression line y = mx + c\n",
    "print(\"Intercept : \",slr.intercept_, '\\nCoefficient',slr.coef_)"
   ]
  },
  {
   "cell_type": "code",
   "execution_count": 15,
   "id": "93d28c5d",
   "metadata": {},
   "outputs": [
    {
     "data": {
      "image/png": "[encoded data removed]",
      "text/plain": [
       "<Figure size 640x480 with 1 Axes>"
      ]
     },
     "metadata": {},
     "output_type": "display_data"
    }
   ],
   "source": [
    "# Now plotting a plot between Fitting Regression line of SLR and the Traning Dataset.\n",
    "y_pred = slr.coef_*X_train + slr.intercept_\n",
    "\n",
    "# Plotting Regression LIne\n",
    "plt.plot(X_train,y_pred)\n",
    "\n",
    "# Plotting Datapoints using Scatterplotplot\n",
    "plt.scatter(X_train,y_train,marker='o',color=\"red\")\n",
    "\n",
    "plt.title(\"Hours vs Marks\")\n",
    "plt.xlabel(\"Hours Studied\")\n",
    "plt.ylabel(\"Marks Obtained\")\n",
    "plt.show()"
   ]
  },
  {
   "cell_type": "markdown",
   "id": "289bd802",
   "metadata": {},
   "source": [
    "Now the model is good on training set, but we need to check the same for test set as well."
   ]
  },
  {
   "cell_type": "code",
   "execution_count": 16,
   "id": "46a4c082",
   "metadata": {},
   "outputs": [],
   "source": [
    "# Predicting y_test from Trained Model\n",
    "y_test_pred = slr.predict(X_test)\n",
    "y_test_pred = pd.DataFrame(y_test_pred)"
   ]
  },
  {
   "cell_type": "code",
   "execution_count": 17,
   "id": "993586f8",
   "metadata": {
    "scrolled": false
   },
   "outputs": [
    {
     "data": {
      "image/png": "[encoded data removed]",
      "text/plain": [
       "<Figure size 640x480 with 1 Axes>"
      ]
     },
     "metadata": {},
     "output_type": "display_data"
    }
   ],
   "source": [
    "# Now plotting a plot between predicted Test set and Actual Test set.\n",
    "\n",
    "# Plotting Regression LIne\n",
    "plt.plot(X_test,y_test_pred)\n",
    "\n",
    "# Plotting Datapoints using Scatterplotplot\n",
    "plt.scatter(X_test,y_test,marker='o',color=\"red\")\n",
    "\n",
    "plt.title(\"Hours vs Marks\")\n",
    "plt.xlabel(\"Hours Studied\")\n",
    "plt.ylabel(\"Marks Obtained\")\n",
    "plt.show()"
   ]
  },
  {
   "cell_type": "markdown",
   "id": "1b66ef0a",
   "metadata": {},
   "source": [
    "- Now we have done with Model Building and Evaluating on Test Set.\n",
    "- Now we need to check the Metrics."
   ]
  },
  {
   "cell_type": "markdown",
   "id": "86305cf3",
   "metadata": {},
   "source": [
    "### Evaluating Metrics"
   ]
  },
  {
   "cell_type": "code",
   "execution_count": 18,
   "id": "4278bf84",
   "metadata": {},
   "outputs": [],
   "source": [
    "from sklearn.metrics import r2_score"
   ]
  },
  {
   "cell_type": "code",
   "execution_count": 19,
   "id": "80419160",
   "metadata": {},
   "outputs": [
    {
     "name": "stdout",
     "output_type": "stream",
     "text": [
      "R_square of the model for Train 0.9515510725211552\n",
      "R_square of the model Test 0.9454906892105355\n"
     ]
    }
   ],
   "source": [
    "print(\"R_square of the model for Train\", r2_score(y_train,y_pred))\n",
    "print(\"R_square of the model Test\", r2_score(y_test,y_test_pred))"
   ]
  },
  {
   "cell_type": "markdown",
   "id": "232db912",
   "metadata": {},
   "source": [
    "The near the value of R^2 score to 1 the better the model is."
   ]
  },
  {
   "cell_type": "code",
   "execution_count": 20,
   "id": "09d5aa1a",
   "metadata": {
    "scrolled": true
   },
   "outputs": [
    {
     "name": "stdout",
     "output_type": "stream",
     "text": [
      "Mean Absolute Error for Train 5.186601709180371 \n",
      "Mean Squared Error for Train 30.89818237731452\n",
      "\n",
      "\n",
      "Mean Absolute Error for Test 4.183859899002975 \n",
      "Mean Squared Error for Test 21.598769307217406\n"
     ]
    }
   ],
   "source": [
    "from sklearn.metrics import mean_absolute_error\n",
    "from sklearn.metrics import mean_squared_error\n",
    "print(\"Mean Absolute Error for Train\",mean_absolute_error(y_train,y_pred),\n",
    "    \"\\nMean Squared Error for Train\", mean_squared_error(y_train,y_pred))\n",
    "\n",
    "print(\"\\n\\nMean Absolute Error for Test\",mean_absolute_error(y_test,y_test_pred),\n",
    "      \"\\nMean Squared Error for Test\", mean_squared_error(y_test,y_test_pred))"
   ]
  },
  {
   "cell_type": "markdown",
   "id": "ebb0b28e",
   "metadata": {},
   "source": [
    "### The score given by our Model for Train and Test"
   ]
  },
  {
   "cell_type": "code",
   "execution_count": 21,
   "id": "ab00c5d2",
   "metadata": {},
   "outputs": [
    {
     "name": "stdout",
     "output_type": "stream",
     "text": [
      "Train :  95.15510725211553\n",
      "Test :  94.54906892105355\n"
     ]
    }
   ],
   "source": [
    "print(\"Train : \",slr.score(X_train,y_train)*100)\n",
    "print(\"Test : \",slr.score(X_test,y_test)*100)"
   ]
  },
  {
   "cell_type": "markdown",
   "id": "7d376073",
   "metadata": {},
   "source": [
    "## What will be predicted score if a student studies for 9.25 hrs/ day?"
   ]
  },
  {
   "cell_type": "code",
   "execution_count": 22,
   "id": "06fd5555",
   "metadata": {},
   "outputs": [
    {
     "name": "stdout",
     "output_type": "stream",
     "text": [
      "Given Hours are :  [[9.25]] \n",
      "The Predicted Score :  [93.69173249]\n"
     ]
    }
   ],
   "source": [
    "# We are now testing our model new input datapoint that model has never seen before\n",
    "Hours = np.array([[9.25]])\n",
    "pred_op = slr.predict(Hours)\n",
    "print(\"Given Hours are : \",Hours,\"\\nThe Predicted Score : \",pred_op[0])"
   ]
  }
 ],
 "metadata": {
  "kernelspec": {
   "display_name": "Python 3 (ipykernel)",
   "language": "python",
   "name": "python3"
  },
  "language_info": {
   "codemirror_mode": {
    "name": "ipython",
    "version": 3
   },
   "file_extension": ".py",
   "mimetype": "text/x-python",
   "name": "python",
   "nbconvert_exporter": "python",
   "pygments_lexer": "ipython3",
   "version": "3.10.1"
  }
 },
 "nbformat": 4,
 "nbformat_minor": 5
}
